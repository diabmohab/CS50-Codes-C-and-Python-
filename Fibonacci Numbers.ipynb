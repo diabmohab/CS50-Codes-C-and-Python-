{
 "cells": [
  {
   "cell_type": "code",
   "execution_count": 5,
   "metadata": {},
   "outputs": [
    {
     "name": "stdout",
     "output_type": "stream",
     "text": [
      "enter number of digits you want in series (minimum 2): 10\n",
      "\n",
      "fibonacci series is:\n",
      "0 , 1, 1, 2, 3, 5, 8, 13, 21, 34, "
     ]
    }
   ],
   "source": [
    "\n",
    "num = int(input(\"enter number of digits you want in series (minimum 2): \"))\n",
    " \n",
    "first = 0\n",
    "second = 1\n",
    " \n",
    "print(\"\\nfibonacci series is:\")\n",
    "print(first, \",\", second, end=\", \")\n",
    " \n",
    "for i in range(2, num):\n",
    "    next = first + second\n",
    "    print(next, end=\", \")\n",
    " \n",
    "    first = second\n",
    "    second = next"
   ]
  },
  {
   "cell_type": "code",
   "execution_count": null,
   "metadata": {},
   "outputs": [],
   "source": []
  }
 ],
 "metadata": {
  "kernelspec": {
   "display_name": "Python 3",
   "language": "python",
   "name": "python3"
  },
  "language_info": {
   "codemirror_mode": {
    "name": "ipython",
    "version": 3
   },
   "file_extension": ".py",
   "mimetype": "text/x-python",
   "name": "python",
   "nbconvert_exporter": "python",
   "pygments_lexer": "ipython3",
   "version": "3.7.1"
  }
 },
 "nbformat": 4,
 "nbformat_minor": 2
}
