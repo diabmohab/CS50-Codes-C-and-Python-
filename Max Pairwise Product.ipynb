{
 "cells": [
  {
   "cell_type": "code",
   "execution_count": 3,
   "metadata": {},
   "outputs": [],
   "source": [
    "result = 0\n",
    "\n",
    "\n",
    "def max_pairwise_product(n, a):\n",
    "    for i in range(0, n):\n",
    "        for j in range(i + 1, n):\n",
    "            if a[i] * a[j] > result:\n",
    "                result = a[i] * a[j]\n",
    "    return result\n",
    "\n",
    "\n"
   ]
  },
  {
   "cell_type": "code",
   "execution_count": null,
   "metadata": {},
   "outputs": [],
   "source": [
    "def max_pairwise_product_fast(n, numbers):\n",
    "    max_index1 = -1\n",
    "    for i in range(n):\n",
    "        if max_index1 == -1 or numbers[i] > numbers[max_index1]:\n",
    "            max_index1 = i\n",
    "\n",
    "    max_index2 = -1\n",
    "    for i in range(n):\n",
    "        if i != max_index1 and (max_index2 == -1 or numbers[i] > numbers[max_index2]):\n",
    "            max_index2 = i\n",
    "\n",
    "    return numbers[max_index1] * numbers[max_index2]\n",
    "\n",
    "\n"
   ]
  },
  {
   "cell_type": "code",
   "execution_count": null,
   "metadata": {},
   "outputs": [],
   "source": []
  }
 ],
 "metadata": {
  "kernelspec": {
   "display_name": "Python 3",
   "language": "python",
   "name": "python3"
  },
  "language_info": {
   "codemirror_mode": {
    "name": "ipython",
    "version": 3
   },
   "file_extension": ".py",
   "mimetype": "text/x-python",
   "name": "python",
   "nbconvert_exporter": "python",
   "pygments_lexer": "ipython3",
   "version": "3.7.1"
  }
 },
 "nbformat": 4,
 "nbformat_minor": 2
}
