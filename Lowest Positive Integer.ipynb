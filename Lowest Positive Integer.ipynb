{
 "cells": [
  {
   "cell_type": "code",
   "execution_count": 1,
   "metadata": {},
   "outputs": [
    {
     "data": {
      "text/plain": [
       "2"
      ]
     },
     "execution_count": 1,
     "metadata": {},
     "output_type": "execute_result"
    }
   ],
   "source": [
    "# you can write to stdout for debugging purposes, e.g.\n",
    "# print(\"this is a debug message\")\n",
    "\n",
    "def solution(A):\n",
    "    # write your code in Python 3.6\n",
    "    if (max(A) <= 0) or (min(A) > 1):\n",
    "        return 1 \n",
    "\n",
    "    X = []\n",
    "    B = [x+1 for x in A]\n",
    "    A = sorted(A)\n",
    "    B = sorted(B)\n",
    "    for i in range(0,len(B)):\n",
    "        \n",
    "        if B[i] not in A:\n",
    "            \n",
    "            X.append(B[i])\n",
    "            \n",
    "    return X[0]\n",
    "            \n",
    "        \n",
    "        \n",
    "        \n",
    "        \n",
    "A = [1, 1, 4]\n",
    "solution(A)"
   ]
  },
  {
   "cell_type": "code",
   "execution_count": null,
   "metadata": {},
   "outputs": [],
   "source": []
  }
 ],
 "metadata": {
  "kernelspec": {
   "display_name": "Python 3",
   "language": "python",
   "name": "python3"
  },
  "language_info": {
   "codemirror_mode": {
    "name": "ipython",
    "version": 3
   },
   "file_extension": ".py",
   "mimetype": "text/x-python",
   "name": "python",
   "nbconvert_exporter": "python",
   "pygments_lexer": "ipython3",
   "version": "3.7.1"
  }
 },
 "nbformat": 4,
 "nbformat_minor": 2
}
